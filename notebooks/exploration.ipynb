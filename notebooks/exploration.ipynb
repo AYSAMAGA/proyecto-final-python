{
 "cells": [
  {
   "cell_type": "code",
   "execution_count": 1,
   "metadata": {},
   "outputs": [
    {
     "ename": "ModuleNotFoundError",
     "evalue": "No module named 'matplotlib'",
     "output_type": "error",
     "traceback": [
      "\u001b[1;31m---------------------------------------------------------------------------\u001b[0m",
      "\u001b[1;31mModuleNotFoundError\u001b[0m                       Traceback (most recent call last)",
      "Cell \u001b[1;32mIn[1], line 2\u001b[0m\n\u001b[0;32m      1\u001b[0m \u001b[38;5;28;01mimport\u001b[39;00m \u001b[38;5;21;01mpandas\u001b[39;00m \u001b[38;5;28;01mas\u001b[39;00m \u001b[38;5;21;01mpd\u001b[39;00m \u001b[38;5;66;03m# Importamos la libreria pandas para manipulacion de datos.\u001b[39;00m\n\u001b[1;32m----> 2\u001b[0m \u001b[38;5;28;01mimport\u001b[39;00m \u001b[38;5;21;01mmatplotlib\u001b[39;00m\u001b[38;5;21;01m.\u001b[39;00m\u001b[38;5;21;01mpyplot\u001b[39;00m \u001b[38;5;28;01mas\u001b[39;00m \u001b[38;5;21;01mplt\u001b[39;00m \u001b[38;5;66;03m# Importamos la libreria matplotlib para visualizacion de datos.\u001b[39;00m\n\u001b[0;32m      4\u001b[0m \u001b[38;5;66;03m# Cargamos los datos limpios.\u001b[39;00m\n\u001b[0;32m      6\u001b[0m data_path \u001b[38;5;241m=\u001b[39m \u001b[38;5;124m\"\u001b[39m\u001b[38;5;124m../data/processed/cleaned_products.csv\u001b[39m\u001b[38;5;124m\"\u001b[39m \u001b[38;5;66;03m# Definimos la ruta del archivo de los datos a leer.\u001b[39;00m\n",
      "\u001b[1;31mModuleNotFoundError\u001b[0m: No module named 'matplotlib'"
     ]
    }
   ],
   "source": [
    "import pandas as pd # Importamos la libreria pandas para manipulacion de datos.\n",
    "import matplotlib.pyplot as plt # Importamos la libreria matplotlib para visualizacion de datos.\n",
    "\n",
    "# Cargamos los datos limpios.\n",
    "\n",
    "data_path = \"../data/processed/cleaned_products.csv\" # Definimos la ruta del archivo de los datos a leer.\n",
    "df = pd.read_csv(data_path) # Cargamos los datos del archivo csv en un DataFrame.\n",
    "\n",
    "# Analisis y visualizacion\n",
    "\n",
    "print(\"Basic Statistics\") \n",
    "print(df.describe()) # Mostramos un resumen estadistico de los datos en el DataFrame.\n",
    "\n",
    "# Histograma de precios.\n",
    "\n",
    "plt.hist(df[\"price\"], bins=20, edgecolor=\"black\") #Creamos un histograma de la columna \"Price\" con 20 barras y bordes negros\n",
    "plt.title(\"Distribucion de precios\") # Añadimos un titulo al histograma\n",
    "plt.xlabel(\"Precio\") # Añadimos una etiqueta al eje X\n",
    "plt.ylabel(\"Frecuencia\") # Añadimos una etiqueta al eje Y\n",
    "plt.show() # Mostramos el Histograma.\n",
    "\n",
    "# Productos mas caros.\n",
    "\n",
    "print(\"Productos mas Caros: \") \n",
    "highestPrice= df.nlargest(5,'price')\n",
    "print(highestPrice)\n"
   ]
  },
  {
   "cell_type": "code",
   "execution_count": null,
   "metadata": {},
   "outputs": [],
   "source": []
  }
 ],
 "metadata": {
  "kernelspec": {
   "display_name": ".venv",
   "language": "python",
   "name": "python3"
  },
  "language_info": {
   "codemirror_mode": {
    "name": "ipython",
    "version": 3
   },
   "file_extension": ".py",
   "mimetype": "text/x-python",
   "name": "python",
   "nbconvert_exporter": "python",
   "pygments_lexer": "ipython3",
   "version": "3.12.3"
  }
 },
 "nbformat": 4,
 "nbformat_minor": 2
}
